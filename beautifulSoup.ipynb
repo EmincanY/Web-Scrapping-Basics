{
 "cells": [
  {
   "cell_type": "code",
   "execution_count": 1,
   "metadata": {},
   "outputs": [],
   "source": [
    "import requests\n",
    "from bs4 import BeautifulSoup"
   ]
  },
  {
   "cell_type": "code",
   "execution_count": 4,
   "metadata": {},
   "outputs": [
    {
     "name": "stdout",
     "output_type": "stream",
     "text": [
      "<_io.TextIOWrapper name='index.html' mode='r' encoding='cp1254'>\n"
     ]
    }
   ],
   "source": [
    "with open('index.html') as index:\n",
    "    print(index)"
   ]
  },
  {
   "cell_type": "code",
   "execution_count": 38,
   "metadata": {},
   "outputs": [
    {
     "name": "stdout",
     "output_type": "stream",
     "text": [
      "[<li>asd</li>, <li>dfg</li>, <li>tye</li>, <li>axh</li>, <li>moÄ±</li>, <li>1</li>, <li>2</li>, <li>3</li>, <li>4</li>, <li>5</li>]\n"
     ]
    }
   ],
   "source": [
    "with open('index.html') as index:\n",
    "    soup = BeautifulSoup(index,'html.parser')\n",
    "    # print(soup)\n",
    "    # print(soup.prettify())\n",
    "    # print(soup.title)\n",
    "    # print(soup.title.text)   # 1.way\n",
    "    # print(soup.title.string) # 2.way\n",
    "    # print(soup.find_all('div'))\n",
    "    # print(soup.find_all('div')[0]) # Only first div.\n",
    "    # print(soup.find_all('div')[0].ul) # Only first div and inside ul.\n",
    "    # print(soup.find_all('div')[0].ul.parent) # We get ul's parent.\n",
    "    # print(soup.find_all('div')[0].ul.children) # Iterable list returned.\n",
    "    # print(list(soup.find_all('div')[0].ul.children))\n",
    "    # print(soup.find_all('div')[0].ul.li) # Only first li comed.\n",
    "    # print(soup.find_all('div')[0].ul.find_all('li')) # We got all li\n",
    "    # print(soup.find_all('div')[0].ul.find_all('li')[0].text) # We got first li text.\n",
    "    # print(soup.find('div' , attrs={'class' : 'div3'})) # We get the div which is class div3.\n",
    "    # print(soup.find('div' , attrs={'class' : 'div3'}).a.get('href')) # We get href link.\n",
    "    # print(soup.find('div' , attrs={'class':'div1'}).find_all('li')) # Çok derinlere girmeden direkt ul'ye girmeden li'yi çağırabiliyoruz.\n",
    "    # print(soup.find('div')) # Only first div.\n",
    "    "
   ]
  },
  {
   "cell_type": "code",
   "execution_count": null,
   "metadata": {},
   "outputs": [],
   "source": []
  }
 ],
 "metadata": {
  "kernelspec": {
   "display_name": "Python 3",
   "language": "python",
   "name": "python3"
  },
  "language_info": {
   "codemirror_mode": {
    "name": "ipython",
    "version": 3
   },
   "file_extension": ".py",
   "mimetype": "text/x-python",
   "name": "python",
   "nbconvert_exporter": "python",
   "pygments_lexer": "ipython3",
   "version": "3.10.9"
  },
  "orig_nbformat": 4,
  "vscode": {
   "interpreter": {
    "hash": "aa38ca2d4ac5334f8facb9127846041594939b57ea42b4afe5d7eb655aac64f1"
   }
  }
 },
 "nbformat": 4,
 "nbformat_minor": 2
}
