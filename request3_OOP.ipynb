{
 "cells": [
  {
   "cell_type": "code",
   "execution_count": 1,
   "metadata": {},
   "outputs": [],
   "source": [
    "import requests\n",
    "import json"
   ]
  },
  {
   "attachments": {},
   "cell_type": "markdown",
   "metadata": {},
   "source": [
    "# Define a class for Object Oriented Programming(OOP)"
   ]
  },
  {
   "cell_type": "code",
   "execution_count": 52,
   "metadata": {},
   "outputs": [],
   "source": [
    "class Product:\n",
    "    def __init__(self) -> None:\n",
    "        self.url = \"https://dummyjson.com/products\"\n",
    "        \n",
    "    def get_all_products(self):\n",
    "        r = requests.get(self.url)\n",
    "        \n",
    "        # html = r.text\n",
    "        # products = json.load(html)\n",
    "        \n",
    "        products = r.json()\n",
    "        \n",
    "        return products\n",
    "    \n",
    "    def get_single_product(self,product_id):\n",
    "        # self.url = self.url + '/' + product_id\n",
    "        self.url = f\"{self.url}/{product_id}\"\n",
    "        \n",
    "        r = requests.get(self.url)\n",
    "        \n",
    "        product = r.json()\n",
    "        \n",
    "        return product\n",
    "    \n",
    "    def search_product(self,name):\n",
    "        pyload = {'q': name}\n",
    "        ## self.url = f\"{self.url}/search?q={name}\"\n",
    "        \n",
    "        ## r = requests.get(self.url)\n",
    "        \n",
    "        r = requests.get(f\"{self.url}/search/\", params=pyload)\n",
    "        \n",
    "        product = r.json()\n",
    "        \n",
    "        return product\n",
    "    \n",
    "    def get_limit_skip_select_product(self,limit,skip,select):\n",
    "        pyload = {'limit':limit,'skip':skip,'select':select}\n",
    "        ## self.url = f\"{self.url}/search?q={name}\"\n",
    "        \n",
    "        ## r = requests.get(self.url)\n",
    "        \n",
    "        r = requests.get(f\"{self.url}\", params=pyload)\n",
    "        \n",
    "        product = r.json()\n",
    "        \n",
    "        return product"
   ]
  },
  {
   "attachments": {},
   "cell_type": "markdown",
   "metadata": {},
   "source": [
    "# Create a product class instance"
   ]
  },
  {
   "cell_type": "code",
   "execution_count": 53,
   "metadata": {},
   "outputs": [],
   "source": [
    "product1 = Product()"
   ]
  },
  {
   "attachments": {},
   "cell_type": "markdown",
   "metadata": {},
   "source": [
    "## To use func1"
   ]
  },
  {
   "cell_type": "code",
   "execution_count": null,
   "metadata": {},
   "outputs": [],
   "source": [
    "print(product1.get_all_products())"
   ]
  },
  {
   "attachments": {},
   "cell_type": "markdown",
   "metadata": {},
   "source": [
    "## To use func2"
   ]
  },
  {
   "cell_type": "code",
   "execution_count": null,
   "metadata": {},
   "outputs": [],
   "source": [
    "product1.get_single_product(2)"
   ]
  },
  {
   "attachments": {},
   "cell_type": "markdown",
   "metadata": {},
   "source": [
    "## To use func3"
   ]
  },
  {
   "cell_type": "code",
   "execution_count": null,
   "metadata": {},
   "outputs": [],
   "source": [
    "product1.search_product('phone')"
   ]
  },
  {
   "attachments": {},
   "cell_type": "markdown",
   "metadata": {},
   "source": [
    "## To use func4"
   ]
  },
  {
   "cell_type": "code",
   "execution_count": null,
   "metadata": {},
   "outputs": [],
   "source": [
    "product1.get_limit_skip_select_product(10,10,'title')"
   ]
  },
  {
   "cell_type": "code",
   "execution_count": null,
   "metadata": {},
   "outputs": [],
   "source": [
    "# Done"
   ]
  }
 ],
 "metadata": {
  "kernelspec": {
   "display_name": "Python 3",
   "language": "python",
   "name": "python3"
  },
  "language_info": {
   "codemirror_mode": {
    "name": "ipython",
    "version": 3
   },
   "file_extension": ".py",
   "mimetype": "text/x-python",
   "name": "python",
   "nbconvert_exporter": "python",
   "pygments_lexer": "ipython3",
   "version": "3.10.9 (tags/v3.10.9:1dd9be6, Dec  6 2022, 20:01:21) [MSC v.1934 64 bit (AMD64)]"
  },
  "orig_nbformat": 4,
  "vscode": {
   "interpreter": {
    "hash": "aa38ca2d4ac5334f8facb9127846041594939b57ea42b4afe5d7eb655aac64f1"
   }
  }
 },
 "nbformat": 4,
 "nbformat_minor": 2
}
