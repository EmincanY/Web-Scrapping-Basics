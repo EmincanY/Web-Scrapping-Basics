{
 "cells": [
  {
   "cell_type": "code",
   "execution_count": 88,
   "metadata": {},
   "outputs": [],
   "source": [
    "import requests\n",
    "import json\n",
    "\n",
    "from bs4 import BeautifulSoup\n",
    "\n",
    "import pandas as pd"
   ]
  },
  {
   "cell_type": "code",
   "execution_count": 104,
   "metadata": {},
   "outputs": [],
   "source": [
    "class ScrapingTrendyol:\n",
    "    def __init__(self) -> None:\n",
    "        self.url = \"https://www.trendyol.com\" # Main url\n",
    "        \n",
    "    def get_html_source(self, page_num=None):\n",
    "        pyload = {'pi' : page_num}\n",
    "        response = requests.get(self.url+'/laptop-x-c103108' , params = pyload)\n",
    "        # response = requests.get(self.url+'/laptop-x-c103108?pi{page_num}')\n",
    "        \n",
    "        if response.status_code == 200 :\n",
    "            soup = BeautifulSoup(response.content , \"html.parser\")\n",
    "            return soup\n",
    "        else : \n",
    "            print(f'There is an error from website ! : {response.status_code}')\n",
    "            \n",
    "    def get_products(self, number=None):\n",
    "        soup = self.get_html_source(number)\n",
    "        products =  soup.find('div', attrs={'class': 'prdct-cntnr-wrppr'}).find_all('div', attrs={'class': 'p-card-wrppr with-campaign-view'})\n",
    "        # print(len(products))\n",
    "        return products\n",
    "    \n",
    "    \n",
    "    \n",
    "    \n",
    "    def get_product_names(self, number=None):\n",
    "        products =  self.get_products(number)\n",
    "        product_names = list(map(lambda product_name: product_name.find('div',  {'class': 'product-down'}).find_all(\"span\")[0].text, products))\n",
    "        return product_names\n",
    "    \n",
    "    def get_product_links(self, number=None):\n",
    "        products = self.get_products()\n",
    "        \n",
    "        # products = products.find(\"div\", {\"class\": \"p-card-chldrn-cntnr card-border\"}).find_all(\"a\")\n",
    "        \n",
    "        product_links = list(map(lambda product_link: self.url + \"{}\".format(product_link.find('a').get('href')), products))\n",
    "        # for link in product_links:\n",
    "        #     print(link)\n",
    "        return product_links\n",
    "        \n",
    "    # def get_product_infos(self, name = None):\n",
    "    #     products = self.get_products()\n",
    "    #     product_titles = list(map(lambda product_name: product_name.find('div',  {'class': 'product-down'}).find_all(\"span\")[1].text, products))\n",
    "        \n",
    "    #     product_prices = list(map(lambda product_price: product_price.find('div', {'class' : 'prc-box-dscntd'}).text , products))\n",
    "        \n",
    "        \n",
    "    #     product_infos = [{'productInfo': product_title , 'productPrice': product_price } for product_title, product_price in  zip(product_titles , product_prices)]\n",
    "    #     return product_infos\n",
    "    \n",
    "    def get_product_titles(self, name = None):\n",
    "        products = self.get_products()\n",
    "        product_titles = list(map(lambda product_name: product_name.find('div',  {'class': 'product-down'}).find_all(\"span\")[1].text, products))\n",
    "        \n",
    "        return product_titles\n",
    "    \n",
    "    def get_product_prices(self, name = None):\n",
    "        products = self.get_products()\n",
    "        \n",
    "        product_prices = list(map(lambda product_price: product_price.find('div', {'class' : 'prc-box-dscntd'}).text , products))\n",
    "        \n",
    "        return product_prices\n",
    "    \n",
    "    \n",
    "    def merge_product(self):\n",
    "        product_names = self.get_product_names()\n",
    "        product_links = self.get_product_links()\n",
    "        product_titles = self.get_product_titles()\n",
    "        product_prices = self.get_product_prices()\n",
    "        \n",
    "\n",
    "        # df = pd.DataFrame({'ProductName':product_names , 'ProductLink' : product_links , 'ProductTitle' : product_titles , 'ProductPrice': product_prices} )\n",
    "        # print(df)\n",
    "        \n",
    "        product_list = [{\"productName\":product_name , \"productLink\":product_link , \"productTitle\":product_title , \"productPrice\" : product_price} for product_name , product_link , product_title , product_price in zip(product_names,product_links,product_titles,product_prices)]\n",
    "        return product_list\n",
    "        \n",
    "    # def merge_product(self):\n",
    "    #     product_names = self.get_product_names()\n",
    "    #     product_links = self.get_product_links()\n",
    "    #     product_infos = self.get_product_infos()\n",
    "        \n",
    "    #     print(product_infos)\n",
    "    #     # df = pd.DataFrame({'ProductName':product_names , 'ProductLink' : product_links , 'ProductInfo' : product_infos.keys() , 'ProductPrice':product_infos.values()} )\n",
    "    #     # print(df)\n",
    "        \n",
    "    #     product_list = [{\"productName\":product_name , \"productLink\":product_link , \"productInfo\":product_info} for product_name , product_link , product_info in zip(product_names,product_links,product_infos)]\n",
    "    #     return product_list\n",
    "    \n",
    "    \n",
    "    def save_json(self, data):\n",
    "        with open('products.json' , 'w') as f :\n",
    "            f.write(json.dumps(data))\n",
    "            print(\"Succesfully saved !\")\n",
    "        "
   ]
  },
  {
   "cell_type": "code",
   "execution_count": 105,
   "metadata": {},
   "outputs": [],
   "source": [
    "scrapping_trendyol = ScrapingTrendyol()"
   ]
  },
  {
   "cell_type": "code",
   "execution_count": 106,
   "metadata": {},
   "outputs": [
    {
     "name": "stdout",
     "output_type": "stream",
     "text": [
      "Succesfully saved !\n",
      "None\n"
     ]
    }
   ],
   "source": [
    "data = scrapping_trendyol.merge_product()\n",
    "print(scrapping_trendyol.save_json(data))"
   ]
  },
  {
   "cell_type": "code",
   "execution_count": 103,
   "metadata": {},
   "outputs": [
    {
     "name": "stdout",
     "output_type": "stream",
     "text": [
      "   ProductName                                        ProductLink  \\\n",
      "0       Huawei  https://www.trendyol.com/huawei/matebook-d15-a...   \n",
      "1       LENOVO  https://www.trendyol.com/lenovo/ideapad-3-inte...   \n",
      "2       Casper  https://www.trendyol.com/casper/nirvana-c500-1...   \n",
      "3     Hometech  https://www.trendyol.com/hometech/alfa-470c-ro...   \n",
      "4        Apple  https://www.trendyol.com/apple/macbook-air-13-...   \n",
      "5       Casper  https://www.trendyol.com/casper/excalibur-g770...   \n",
      "6   Game Garaj  https://www.trendyol.com/monster/abra-a5-v16-7...   \n",
      "7      Monster  https://www.trendyol.com/casper/excalibur-g770...   \n",
      "8          MSI  https://www.trendyol.com/casper/excalibur-g870...   \n",
      "9       Casper  https://www.trendyol.com/game-garaj/slayer-5xl...   \n",
      "10      Casper  https://www.trendyol.com/msi/nb-katana-gf76-11...   \n",
      "11      Casper  https://www.trendyol.com/casper/excalibur-g770...   \n",
      "12      LENOVO  https://www.trendyol.com/lenovo/82hs00nstx-ide...   \n",
      "13      LENOVO  https://www.trendyol.com/lenovo/ideapad-3-inte...   \n",
      "14     Monster  https://www.trendyol.com/monster/abra-a5-v19-1...   \n",
      "15      LENOVO  https://www.trendyol.com/lenovo/ideapad1-celer...   \n",
      "16  Game Garaj  https://www.trendyol.com/monster/abra-a5-v17-2...   \n",
      "17     Monster  https://www.trendyol.com/game-garaj/slayer2-d5...   \n",
      "18      LENOVO  https://www.trendyol.com/game-garaj/slayer2-d5...   \n",
      "19        ASUS  https://www.trendyol.com/lenovo/v15-82kd0045tx...   \n",
      "20          HP  https://www.trendyol.com/asus/x515ea-bq1190-in...   \n",
      "21     Monster  https://www.trendyol.com/hp/victus-gaming-15-f...   \n",
      "22       Apple  https://www.trendyol.com/monster/huma-h4-v5-1-...   \n",
      "23       Apple  https://www.trendyol.com/apple/macbook-air-13-...   \n",
      "\n",
      "                                         ProductTitle  ProductPrice  \n",
      "0   Matebook D15 AMD Ryzen 5-5500U 8GB 512GB SSD 1...     11.999 TL  \n",
      "1   IdeaPad 3 Intel Core i3-1115G4 8GB 512GB SSD D...      7.999 TL  \n",
      "2   Nirvana C500.1135-bv00x-g-f Intel Core I5-1135...      9.647 TL  \n",
      "3   Alfa 470c Rose Gold Intel Celeron N4020 4 Gb 1...      3.999 TL  \n",
      "4      Macbook Air 13.6\" M2 8gb 256gb Ssd Gece Yarısı  27.999,90 TL  \n",
      "5   Excalibur G770.1245-bvh0x-b 12.nesil Intel Cor...     15.599 TL  \n",
      "6   Abra A5 V16.7.3 Intel Core I5-11400h 16gb Ram ...  16.201,99 TL  \n",
      "7   Excalibur G770.1245-dfj0x-b Intel Core I5-1245...     18.499 TL  \n",
      "8   Excalibur G870.1245-bf60x-b Intel Core I5-1245...     22.599 TL  \n",
      "9   Slayer 5xl-3050ti C5 I5-11400h 16gb 500gb 4gb ...     19.749 TL  \n",
      "10  Nb Katana Gf76 11ud-875tr I7-11800h 16gb Ram 1...     34.999 TL  \n",
      "11  Excalibur G770.1245-bvj0x-b Intel 12.nesil I5-...     16.999 TL  \n",
      "12  82hs00nstx Ideapad Flex 5 I5-1135g7 8 Gb Ram 2...  14.998,99 TL  \n",
      "13  IdeaPad 3 Intel Core i3-10110U 8GB 256GB SSD D...      8.500 TL  \n",
      "14  Abra A5 V19.1 Intel Core I5-12500h 8 Gb Ram 50...     16.599 TL  \n",
      "15  Ideapad1/Celeron N4120/4GB Ram/128GB emmc /15....      5.490 TL  \n",
      "16  Abra A5 V17.2.3 Intel Core I5-11400h 16gb Ram ...     18.999 TL  \n",
      "17  Slayer2 D5 7xl-3060 C2 I7-12700h 32gb 1tb Ssd ...  31.621,60 TL  \n",
      "18  Slayer2 D5 10xl-3070ti C2 I7-12700h 32gb 1tb S...  42.509,62 TL  \n",
      "19  V15 82kd0045tx Ryzen R7-5700u 16gb 512gb Ssd 1...     11.914 TL  \n",
      "20  X515EA-BQ1190 Intel Core i5-1135G7 8GB 512GB S...     10.999 TL  \n",
      "21  Victus Gaming 15-FB0014NT AMD Ryzen 5-5600H 8G...  13.998,99 TL  \n",
      "22  Huma H4 V5.1.4 Intel Core I5-1235u 8gb Ram 512...     12.519 TL  \n",
      "23  Macbook Air 13'' M1 8gb 256gb Ssd Uzay Grisi D...     19.570 TL  \n"
     ]
    },
    {
     "data": {
      "text/plain": [
       "[{'productName': 'Huawei',\n",
       "  'productLink': 'https://www.trendyol.com/huawei/matebook-d15-amd-ryzen-5-5500u-8gb-512gb-ssd-15-6-w11-dizustu-bilgisayar-huawei-turkiye-garantili-p-235294620',\n",
       "  'productTitle': 'Matebook D15 AMD Ryzen 5-5500U 8GB 512GB SSD 15.6\" W11 Dizüstü Bilgisayar (Huawei Türkiye Garantili)',\n",
       "  'productPrice': '11.999 TL'},\n",
       " {'productName': 'LENOVO',\n",
       "  'productLink': 'https://www.trendyol.com/lenovo/ideapad-3-intel-core-i3-1115g4-8gb-512gb-ssd-dos-15-6-fhd-laptop-lenovo-tr-garantili-82h802xdtx-p-409537504',\n",
       "  'productTitle': \"IdeaPad 3 Intel Core i3-1115G4 8GB 512GB SSD DOS 15.6'' FHD Laptop (Lenovo TR Garantili) 82H802XDTX\",\n",
       "  'productPrice': '7.999 TL'},\n",
       " {'productName': 'Casper',\n",
       "  'productLink': 'https://www.trendyol.com/casper/nirvana-c500-1135-bv00x-g-f-intel-core-i5-1135g7-16gb-ram-500-nvme-ssd-freedos-p-349212808',\n",
       "  'productTitle': 'Nirvana C500.1135-bv00x-g-f Intel Core I5-1135g7 16gb Ram 500 Nvme Ssd Freedos',\n",
       "  'productPrice': '9.647 TL'},\n",
       " {'productName': 'Hometech',\n",
       "  'productLink': 'https://www.trendyol.com/hometech/alfa-470c-rose-gold-intel-celeron-n4020-4-gb-128-gb-ssd-14-1-hd-windows-10-home-dizustu-bilgisayar-p-260090651',\n",
       "  'productTitle': 'Alfa 470c Rose Gold Intel Celeron N4020 4 Gb 128 Gb Ssd 14.1 Hd Windows 10 Home Dizüstü Bilgisayar',\n",
       "  'productPrice': '3.999 TL'},\n",
       " {'productName': 'Apple',\n",
       "  'productLink': 'https://www.trendyol.com/apple/macbook-air-13-6-m2-8gb-256gb-ssd-gece-yarisi-p-336318153',\n",
       "  'productTitle': 'Macbook Air 13.6\" M2 8gb 256gb Ssd Gece Yarısı',\n",
       "  'productPrice': '27.999,90 TL'},\n",
       " {'productName': 'Casper',\n",
       "  'productLink': 'https://www.trendyol.com/casper/excalibur-g770-1245-bvh0x-b-12-nesil-intel-core-i5-12450h-16-gb-ram-500-gb-ssd-4gb-gtx-1650-freedos-p-358993624',\n",
       "  'productTitle': 'Excalibur G770.1245-bvh0x-b 12.nesil Intel Core I5-12450h 16 Gb Ram 500 Gb Ssd 4gb Gtx 1650 Freedos',\n",
       "  'productPrice': '15.599 TL'},\n",
       " {'productName': 'Game Garaj',\n",
       "  'productLink': 'https://www.trendyol.com/monster/abra-a5-v16-7-3-intel-core-i5-11400h-16gb-ram-500gb-ssd-4gb-gtx1650-freedos-15-6-fhd-144hz-p-133966690',\n",
       "  'productTitle': 'Abra A5 V16.7.3 Intel Core I5-11400h 16gb Ram 500gb Ssd 4gb Gtx1650 Freedos 15.6\" Fhd 144hz',\n",
       "  'productPrice': '16.201,99 TL'},\n",
       " {'productName': 'Monster',\n",
       "  'productLink': 'https://www.trendyol.com/casper/excalibur-g770-1245-dfj0x-b-intel-core-i5-12450h-32gb-ram-1tb-ssd-4gb-rtx3050-freedos-p-445708761',\n",
       "  'productTitle': 'Excalibur G770.1245-dfj0x-b Intel Core I5-12450h 32gb Ram 1tb Ssd 4gb Rtx3050 Freedos',\n",
       "  'productPrice': '18.499 TL'},\n",
       " {'productName': 'MSI',\n",
       "  'productLink': 'https://www.trendyol.com/casper/excalibur-g870-1245-bf60x-b-intel-core-i5-12450h-16gb-ram-1tb-ssd-6-gb-rtx-3060-freedos-p-464289242',\n",
       "  'productTitle': 'Excalibur G870.1245-bf60x-b Intel Core I5-12450h 16gb Ram 1tb Ssd 6 Gb Rtx 3060 Freedos',\n",
       "  'productPrice': '22.599 TL'},\n",
       " {'productName': 'Casper',\n",
       "  'productLink': 'https://www.trendyol.com/game-garaj/slayer-5xl-3050ti-c5-i5-11400h-16gb-500gb-4gb-rtx3050ti-17-3-free-dos-p-151050725',\n",
       "  'productTitle': 'Slayer 5xl-3050ti C5 I5-11400h 16gb 500gb 4gb Rtx3050ti 17.3\" Free Dos',\n",
       "  'productPrice': '19.749 TL'},\n",
       " {'productName': 'Casper',\n",
       "  'productLink': 'https://www.trendyol.com/msi/nb-katana-gf76-11ud-875tr-i7-11800h-16gb-ram-1tb-ssd-4gb-rtx3050ti-17-3-fhd-144hz-w11-p-475819420',\n",
       "  'productTitle': 'Nb Katana Gf76 11ud-875tr I7-11800h 16gb Ram 1tb Ssd 4gb Rtx3050tı 17.3 Fhd 144hz W11',\n",
       "  'productPrice': '34.999 TL'},\n",
       " {'productName': 'Casper',\n",
       "  'productLink': 'https://www.trendyol.com/casper/excalibur-g770-1245-bvj0x-b-intel-12-nesil-i5-12450h-16gb-ram-500gb-nvme-ssd-4gb-rtx3050-freedos-p-311975657',\n",
       "  'productTitle': 'Excalibur G770.1245-bvj0x-b Intel 12.nesil I5-12450h 16gb Ram 500gb Nvme Ssd 4gb Rtx3050 Freedos',\n",
       "  'productPrice': '16.999 TL'},\n",
       " {'productName': 'LENOVO',\n",
       "  'productLink': 'https://www.trendyol.com/lenovo/82hs00nstx-ideapad-flex-5-i5-1135g7-8-gb-ram-256-gb-ssd-14-w10-dizustu-bilgisayar-p-302881329',\n",
       "  'productTitle': '82hs00nstx Ideapad Flex 5 I5-1135g7 8 Gb Ram 256 Gb Ssd 14\" W10 Dizüstü Bilgisayar',\n",
       "  'productPrice': '14.998,99 TL'},\n",
       " {'productName': 'LENOVO',\n",
       "  'productLink': 'https://www.trendyol.com/lenovo/ideapad-3-intel-core-i3-10110u-8gb-256gb-ssd-d0s-15-6-fhd-laptop-lenovo-tr-garantili-81wb01g1tx-p-409537502',\n",
       "  'productTitle': \"IdeaPad 3 Intel Core i3-10110U 8GB 256GB SSD D0S 15.6'' FHD Laptop (Lenovo TR Garantili) 81WB01G1TX\",\n",
       "  'productPrice': '8.500 TL'},\n",
       " {'productName': 'Monster',\n",
       "  'productLink': 'https://www.trendyol.com/monster/abra-a5-v19-1-intel-core-i5-12500h-8-gb-ram-500gb-ssd-4gb-gtx1650-freedos-15-6-fhd-144hz-p-343039114',\n",
       "  'productTitle': 'Abra A5 V19.1 Intel Core I5-12500h 8 Gb Ram 500gb Ssd 4gb Gtx1650 Freedos 15,6\" Fhd 144hz',\n",
       "  'productPrice': '16.599 TL'},\n",
       " {'productName': 'LENOVO',\n",
       "  'productLink': 'https://www.trendyol.com/lenovo/ideapad1-celeron-n4120-4gb-ram-128gb-emmc-15-6-win-11-p-382953334',\n",
       "  'productTitle': 'Ideapad1/Celeron N4120/4GB Ram/128GB emmc /15.6\"/Win 11',\n",
       "  'productPrice': '5.490 TL'},\n",
       " {'productName': 'Game Garaj',\n",
       "  'productLink': 'https://www.trendyol.com/monster/abra-a5-v17-2-3-intel-core-i5-11400h-16gb-ram-500gb-ssd-4gb-rtx3050ti-freedos-15-6-fhd-144hz-p-134421285',\n",
       "  'productTitle': 'Abra A5 V17.2.3 Intel Core I5-11400h 16gb Ram 500gb Ssd 4gb Rtx3050ti Freedos 15.6\" Fhd 144hz',\n",
       "  'productPrice': '18.999 TL'},\n",
       " {'productName': 'Monster',\n",
       "  'productLink': 'https://www.trendyol.com/game-garaj/slayer2-d5-7xl-3060-c2-i7-12700h-32gb-1tb-ssd-rtx3060-6gb-17-3-ips-144hz-free-dos-p-383658856',\n",
       "  'productTitle': 'Slayer2 D5 7xl-3060 C2 I7-12700h 32gb 1tb Ssd Rtx3060 6gb 17.3\" Ips 144hz Free Dos',\n",
       "  'productPrice': '31.621,60 TL'},\n",
       " {'productName': 'LENOVO',\n",
       "  'productLink': 'https://www.trendyol.com/game-garaj/slayer2-d5-10xl-3070ti-c2-i7-12700h-32gb-1tb-ssd-rtx-3070ti-17-3-free-dos-p-383615487',\n",
       "  'productTitle': 'Slayer2 D5 10xl-3070ti C2 I7-12700h 32gb 1tb Ssd Rtx 3070tı 17.3\" Free Dos',\n",
       "  'productPrice': '42.509,62 TL'},\n",
       " {'productName': 'ASUS',\n",
       "  'productLink': 'https://www.trendyol.com/lenovo/v15-82kd0045tx-ryzen-r7-5700u-16gb-512gb-ssd-15-6-fhd-freedos-tasinabilir-bilgisayar-p-362235473',\n",
       "  'productTitle': 'V15 82kd0045tx Ryzen R7-5700u 16gb 512gb Ssd 15.6\" Fhd Freedos Taşınabilir Bilgisayar',\n",
       "  'productPrice': '11.914 TL'},\n",
       " {'productName': 'HP',\n",
       "  'productLink': 'https://www.trendyol.com/asus/x515ea-bq1190-intel-core-i5-1135g7-8gb-512gb-ssd-dos-15-6-fhd-laptop-asus-turkiye-garantili-p-458249190',\n",
       "  'productTitle': \"X515EA-BQ1190 Intel Core i5-1135G7 8GB 512GB SSD DOS 15.6'' FHD Laptop (ASUS Türkiye Garantili)\",\n",
       "  'productPrice': '10.999 TL'},\n",
       " {'productName': 'Monster',\n",
       "  'productLink': 'https://www.trendyol.com/hp/victus-gaming-15-fb0014nt-amd-ryzen-5-5600h-8gb-256gb-ssd-gtx1650-4gb-15-6-fhd-freedos-71t75ea-p-442716644',\n",
       "  'productTitle': \"Victus Gaming 15-FB0014NT AMD Ryzen 5-5600H 8GB 256GB SSD GTX1650 4GB 15.6'' FHD FreeDOS 71T75EA\",\n",
       "  'productPrice': '13.998,99 TL'},\n",
       " {'productName': 'Apple',\n",
       "  'productLink': 'https://www.trendyol.com/monster/huma-h4-v5-1-4-intel-core-i5-1235u-8gb-ram-512gb-ssd-freedos-14-1-fhd-rose-gold-p-456347007',\n",
       "  'productTitle': 'Huma H4 V5.1.4 Intel Core I5-1235u 8gb Ram 512gb Ssd Freedos 14,1\" Fhd Rose Gold',\n",
       "  'productPrice': '12.519 TL'},\n",
       " {'productName': 'Apple',\n",
       "  'productLink': 'https://www.trendyol.com/apple/macbook-air-13-m1-8gb-256gb-ssd-uzay-grisi-dizustu-bilgisayar-p-68042136',\n",
       "  'productTitle': \"Macbook Air 13'' M1 8gb 256gb Ssd Uzay Grisi Dizüstü Bilgisayar\",\n",
       "  'productPrice': '19.570 TL'}]"
      ]
     },
     "execution_count": 103,
     "metadata": {},
     "output_type": "execute_result"
    }
   ],
   "source": [
    "scrapping_trendyol.merge_product()"
   ]
  },
  {
   "cell_type": "code",
   "execution_count": 68,
   "metadata": {},
   "outputs": [
    {
     "name": "stdout",
     "output_type": "stream",
     "text": [
      "24\n"
     ]
    },
    {
     "data": {
      "text/plain": [
       "['11.999 TL',\n",
       " '9.647 TL',\n",
       " '3.999 TL',\n",
       " '7.999 TL',\n",
       " '36.299 TL',\n",
       " '27.999,90 TL',\n",
       " '5.499 TL',\n",
       " '16.201,99 TL',\n",
       " '18.499 TL',\n",
       " '19.749 TL',\n",
       " '15.599 TL',\n",
       " '16.999 TL',\n",
       " '14.998,99 TL',\n",
       " '10.999 TL',\n",
       " '34.999 TL',\n",
       " '22.599 TL',\n",
       " '8.500 TL',\n",
       " '42.509,62 TL',\n",
       " '16.599 TL',\n",
       " '18.999 TL',\n",
       " '11.914 TL',\n",
       " '13.998,99 TL',\n",
       " '12.519 TL',\n",
       " '19.570 TL']"
      ]
     },
     "execution_count": 68,
     "metadata": {},
     "output_type": "execute_result"
    }
   ],
   "source": [
    "scrapping_trendyol.get_product_infos()"
   ]
  },
  {
   "cell_type": "code",
   "execution_count": 58,
   "metadata": {},
   "outputs": [
    {
     "name": "stdout",
     "output_type": "stream",
     "text": [
      "24\n",
      "https://www.trendyol.com/huawei/matebook-d15-amd-ryzen-5-5500u-8gb-512gb-ssd-15-6-w11-dizustu-bilgisayar-huawei-turkiye-garantili-p-235294620\n",
      "https://www.trendyol.com/apple/macbook-air-m2-cip-16-gb-512-gb-ssd-13-6-uzay-grisi-notebook-z15t000k6-p-381593488\n",
      "https://www.trendyol.com/hometech/alfa-470c-rose-gold-intel-celeron-n4020-4-gb-128-gb-ssd-14-1-hd-windows-10-home-dizustu-bilgisayar-p-260090651\n",
      "https://www.trendyol.com/casper/nirvana-c500-1135-bv00x-g-f-intel-core-i5-1135g7-16gb-ram-500-nvme-ssd-freedos-p-349212808\n",
      "https://www.trendyol.com/lenovo/ideapad-3-intel-core-i3-1115g4-8gb-512gb-ssd-dos-15-6-fhd-laptop-lenovo-tr-garantili-82h802xdtx-p-409537504\n",
      "https://www.trendyol.com/apple/macbook-air-13-6-m2-8gb-256gb-ssd-gece-yarisi-p-336318153\n",
      "https://www.trendyol.com/lenovo/ideapad-intel-celeron-n4020-4gb-128gb-ssd-14-hd-dos-dizustu-bilgisayar-81vu006stx-p-367015572\n",
      "https://www.trendyol.com/monster/abra-a5-v16-7-3-intel-core-i5-11400h-16gb-ram-500gb-ssd-4gb-gtx1650-freedos-15-6-fhd-144hz-p-133966690\n",
      "https://www.trendyol.com/casper/excalibur-g770-1245-dfj0x-b-intel-core-i5-12450h-32gb-ram-1tb-ssd-4gb-rtx3050-freedos-p-445708761\n",
      "https://www.trendyol.com/casper/excalibur-g770-1245-bvh0x-b-12-nesil-intel-core-i5-12450h-16-gb-ram-500-gb-ssd-4gb-gtx-1650-freedos-p-358993624\n",
      "https://www.trendyol.com/casper/excalibur-g770-1245-bvj0x-b-intel-12-nesil-i5-12450h-16gb-ram-500gb-nvme-ssd-4gb-rtx3050-freedos-p-311975657\n",
      "https://www.trendyol.com/game-garaj/slayer-5xl-3050ti-c5-i5-11400h-16gb-500gb-4gb-rtx3050ti-17-3-free-dos-p-151050725\n",
      "https://www.trendyol.com/lenovo/82hs00nstx-ideapad-flex-5-i5-1135g7-8-gb-ram-256-gb-ssd-14-w10-dizustu-bilgisayar-p-302881329\n",
      "https://www.trendyol.com/asus/x515ea-bq1190-intel-core-i5-1135g7-8gb-512gb-ssd-dos-15-6-fhd-laptop-asus-turkiye-garantili-p-458249190\n",
      "https://www.trendyol.com/casper/excalibur-g870-1245-bf60x-b-intel-core-i5-12450h-16gb-ram-1tb-ssd-6-gb-rtx-3060-freedos-p-464289242\n",
      "https://www.trendyol.com/lenovo/ideapad-3-intel-core-i3-10110u-8gb-256gb-ssd-d0s-15-6-fhd-laptop-lenovo-tr-garantili-81wb01g1tx-p-409537502\n",
      "https://www.trendyol.com/msi/nb-katana-gf76-11ud-875tr-i7-11800h-16gb-ram-1tb-ssd-4gb-rtx3050ti-17-3-fhd-144hz-w11-p-475819420\n",
      "https://www.trendyol.com/monster/abra-a5-v19-1-intel-core-i5-12500h-8-gb-ram-500gb-ssd-4gb-gtx1650-freedos-15-6-fhd-144hz-p-343039114\n",
      "https://www.trendyol.com/monster/abra-a5-v17-2-3-intel-core-i5-11400h-16gb-ram-500gb-ssd-4gb-rtx3050ti-freedos-15-6-fhd-144hz-p-134421285\n",
      "https://www.trendyol.com/lenovo/v15-82kd0045tx-ryzen-r7-5700u-16gb-512gb-ssd-15-6-fhd-freedos-tasinabilir-bilgisayar-p-362235473\n",
      "https://www.trendyol.com/hp/victus-gaming-15-fb0014nt-amd-ryzen-5-5600h-8gb-256gb-ssd-gtx1650-4gb-15-6-fhd-freedos-71t75ea-p-442716644\n",
      "https://www.trendyol.com/game-garaj/slayer2-d5-10xl-3070ti-c2-i7-12700h-32gb-1tb-ssd-rtx-3070ti-17-3-free-dos-p-383615487\n",
      "https://www.trendyol.com/monster/huma-h4-v5-1-4-intel-core-i5-1235u-8gb-ram-512gb-ssd-freedos-14-1-fhd-rose-gold-p-456347007\n",
      "https://www.trendyol.com/apple/macbook-air-13-m1-8gb-256gb-ssd-uzay-grisi-dizustu-bilgisayar-p-68042136\n"
     ]
    },
    {
     "data": {
      "text/plain": [
       "['https://www.trendyol.com/huawei/matebook-d15-amd-ryzen-5-5500u-8gb-512gb-ssd-15-6-w11-dizustu-bilgisayar-huawei-turkiye-garantili-p-235294620',\n",
       " 'https://www.trendyol.com/apple/macbook-air-m2-cip-16-gb-512-gb-ssd-13-6-uzay-grisi-notebook-z15t000k6-p-381593488',\n",
       " 'https://www.trendyol.com/hometech/alfa-470c-rose-gold-intel-celeron-n4020-4-gb-128-gb-ssd-14-1-hd-windows-10-home-dizustu-bilgisayar-p-260090651',\n",
       " 'https://www.trendyol.com/casper/nirvana-c500-1135-bv00x-g-f-intel-core-i5-1135g7-16gb-ram-500-nvme-ssd-freedos-p-349212808',\n",
       " 'https://www.trendyol.com/lenovo/ideapad-3-intel-core-i3-1115g4-8gb-512gb-ssd-dos-15-6-fhd-laptop-lenovo-tr-garantili-82h802xdtx-p-409537504',\n",
       " 'https://www.trendyol.com/apple/macbook-air-13-6-m2-8gb-256gb-ssd-gece-yarisi-p-336318153',\n",
       " 'https://www.trendyol.com/lenovo/ideapad-intel-celeron-n4020-4gb-128gb-ssd-14-hd-dos-dizustu-bilgisayar-81vu006stx-p-367015572',\n",
       " 'https://www.trendyol.com/monster/abra-a5-v16-7-3-intel-core-i5-11400h-16gb-ram-500gb-ssd-4gb-gtx1650-freedos-15-6-fhd-144hz-p-133966690',\n",
       " 'https://www.trendyol.com/casper/excalibur-g770-1245-dfj0x-b-intel-core-i5-12450h-32gb-ram-1tb-ssd-4gb-rtx3050-freedos-p-445708761',\n",
       " 'https://www.trendyol.com/casper/excalibur-g770-1245-bvh0x-b-12-nesil-intel-core-i5-12450h-16-gb-ram-500-gb-ssd-4gb-gtx-1650-freedos-p-358993624',\n",
       " 'https://www.trendyol.com/casper/excalibur-g770-1245-bvj0x-b-intel-12-nesil-i5-12450h-16gb-ram-500gb-nvme-ssd-4gb-rtx3050-freedos-p-311975657',\n",
       " 'https://www.trendyol.com/game-garaj/slayer-5xl-3050ti-c5-i5-11400h-16gb-500gb-4gb-rtx3050ti-17-3-free-dos-p-151050725',\n",
       " 'https://www.trendyol.com/lenovo/82hs00nstx-ideapad-flex-5-i5-1135g7-8-gb-ram-256-gb-ssd-14-w10-dizustu-bilgisayar-p-302881329',\n",
       " 'https://www.trendyol.com/asus/x515ea-bq1190-intel-core-i5-1135g7-8gb-512gb-ssd-dos-15-6-fhd-laptop-asus-turkiye-garantili-p-458249190',\n",
       " 'https://www.trendyol.com/casper/excalibur-g870-1245-bf60x-b-intel-core-i5-12450h-16gb-ram-1tb-ssd-6-gb-rtx-3060-freedos-p-464289242',\n",
       " 'https://www.trendyol.com/lenovo/ideapad-3-intel-core-i3-10110u-8gb-256gb-ssd-d0s-15-6-fhd-laptop-lenovo-tr-garantili-81wb01g1tx-p-409537502',\n",
       " 'https://www.trendyol.com/msi/nb-katana-gf76-11ud-875tr-i7-11800h-16gb-ram-1tb-ssd-4gb-rtx3050ti-17-3-fhd-144hz-w11-p-475819420',\n",
       " 'https://www.trendyol.com/monster/abra-a5-v19-1-intel-core-i5-12500h-8-gb-ram-500gb-ssd-4gb-gtx1650-freedos-15-6-fhd-144hz-p-343039114',\n",
       " 'https://www.trendyol.com/monster/abra-a5-v17-2-3-intel-core-i5-11400h-16gb-ram-500gb-ssd-4gb-rtx3050ti-freedos-15-6-fhd-144hz-p-134421285',\n",
       " 'https://www.trendyol.com/lenovo/v15-82kd0045tx-ryzen-r7-5700u-16gb-512gb-ssd-15-6-fhd-freedos-tasinabilir-bilgisayar-p-362235473',\n",
       " 'https://www.trendyol.com/hp/victus-gaming-15-fb0014nt-amd-ryzen-5-5600h-8gb-256gb-ssd-gtx1650-4gb-15-6-fhd-freedos-71t75ea-p-442716644',\n",
       " 'https://www.trendyol.com/game-garaj/slayer2-d5-10xl-3070ti-c2-i7-12700h-32gb-1tb-ssd-rtx-3070ti-17-3-free-dos-p-383615487',\n",
       " 'https://www.trendyol.com/monster/huma-h4-v5-1-4-intel-core-i5-1235u-8gb-ram-512gb-ssd-freedos-14-1-fhd-rose-gold-p-456347007',\n",
       " 'https://www.trendyol.com/apple/macbook-air-13-m1-8gb-256gb-ssd-uzay-grisi-dizustu-bilgisayar-p-68042136']"
      ]
     },
     "execution_count": 58,
     "metadata": {},
     "output_type": "execute_result"
    }
   ],
   "source": [
    "scrapping_trendyol.get_product_links()"
   ]
  },
  {
   "cell_type": "code",
   "execution_count": 27,
   "metadata": {},
   "outputs": [
    {
     "data": {
      "text/plain": [
       "['Apple',\n",
       " 'Huawei',\n",
       " 'Monster',\n",
       " 'Huawei',\n",
       " 'Casper',\n",
       " 'Game Garaj',\n",
       " 'ACER',\n",
       " 'Monster',\n",
       " 'ACER',\n",
       " 'Game Garaj',\n",
       " 'HP',\n",
       " 'Apple',\n",
       " 'LENOVO',\n",
       " 'LENOVO',\n",
       " 'ASUS',\n",
       " 'MSI',\n",
       " 'Game Garaj',\n",
       " 'ASUS',\n",
       " 'Apple',\n",
       " 'Game Garaj',\n",
       " 'Monster',\n",
       " 'Apple',\n",
       " 'Monster',\n",
       " 'ASUS']"
      ]
     },
     "execution_count": 27,
     "metadata": {},
     "output_type": "execute_result"
    }
   ],
   "source": [
    "scrapping_trendyol.get_product_names()"
   ]
  },
  {
   "cell_type": "code",
   "execution_count": null,
   "metadata": {},
   "outputs": [],
   "source": [
    "scrapping_trendyol.get_html_source(3)"
   ]
  },
  {
   "cell_type": "code",
   "execution_count": 6,
   "metadata": {},
   "outputs": [
    {
     "data": {
      "text/plain": [
       "[<div class=\"product-down\"><div><div class=\"prdct-desc-cntnr\"><div class=\"prdct-desc-cntnr-ttl-w two-line-text\"><span class=\"prdct-desc-cntnr-ttl\" title=\"Apple\">Apple</span><span class=\"prdct-desc-cntnr-name hasRatings\" title='Macbook Air M2 Çip 16 Gb 512 Gb Ssd 13.6\" Uzay Grisi Notebook Z15t000k6'>Macbook Air M2 Çip 16 Gb 512 Gb Ssd 13.6\" Uzay Grisi Notebook Z15t000k6</span></div></div></div><div class=\"ratings-container\"><div class=\"ratings\"><div class=\"star-w\"><div class=\"empty\"><div class=\"star\"></div></div><div class=\"full\" style=\"width:100%;max-width:100%\"><div class=\"star\"></div></div></div><div class=\"star-w\"><div class=\"empty\"><div class=\"star\"></div></div><div class=\"full\" style=\"width:100%;max-width:100%\"><div class=\"star\"></div></div></div><div class=\"star-w\"><div class=\"empty\"><div class=\"star\"></div></div><div class=\"full\" style=\"width:100%;max-width:100%\"><div class=\"star\"></div></div></div><div class=\"star-w\"><div class=\"empty\"><div class=\"star\"></div></div><div class=\"full\" style=\"width:100%;max-width:100%\"><div class=\"star\"></div></div></div><div class=\"star-w\"><div class=\"empty\"><div class=\"star\"></div></div><div class=\"full\" style=\"width:100%;max-width:100%\"><div class=\"star\"></div></div></div><span class=\"ratingCount\">(4)</span></div><img alt='Macbook Air M2 Çip 16 Gb 512 Gb Ssd 13.6\" Uzay Grisi Notebook Z15t000k6' class=\"review-icon\" loading=\"lazy\" src=\"https://cdn.dsmcdn.com/mobile/reviewrating/kamera-emoji6x.png\"/></div><div class=\"price-promotion-container\"><div class=\"prc-cntnr discountedPriceBox\"><div class=\"prc-box-dscntd\">36.299 TL</div></div></div><div class=\"campaign-view-v2\"></div></div>,\n",
       " <div class=\"product-down\"><div><div class=\"prdct-desc-cntnr\"><div class=\"prdct-desc-cntnr-ttl-w two-line-text\"><span class=\"prdct-desc-cntnr-ttl\" title=\"Huawei\">Huawei</span><span class=\"prdct-desc-cntnr-name hasRatings\" title='Matebook D15 AMD Ryzen 5-5500U 8GB 512GB SSD 15.6\" W11 Dizüstü Bilgisayar (Huawei Türkiye Garantili)'>Matebook D15 AMD Ryzen 5-5500U 8GB 512GB SSD 15.6\" W11 Dizüstü Bilgisayar (Huawei Türkiye Garantili)</span></div></div></div><div class=\"ratings-container\"><div class=\"ratings\"><div class=\"star-w\"><div class=\"empty\"><div class=\"star\"></div></div><div class=\"full\" style=\"width:100%;max-width:100%\"><div class=\"star\"></div></div></div><div class=\"star-w\"><div class=\"empty\"><div class=\"star\"></div></div><div class=\"full\" style=\"width:100%;max-width:100%\"><div class=\"star\"></div></div></div><div class=\"star-w\"><div class=\"empty\"><div class=\"star\"></div></div><div class=\"full\" style=\"width:100%;max-width:100%\"><div class=\"star\"></div></div></div><div class=\"star-w\"><div class=\"empty\"><div class=\"star\"></div></div><div class=\"full\" style=\"width:100%;max-width:100%\"><div class=\"star\"></div></div></div><div class=\"star-w\"><div class=\"empty\"><div class=\"star\"></div></div><div class=\"full\" style=\"width:61%;max-width:100%\"><div class=\"star\"></div></div></div><span class=\"ratingCount\">(989)</span></div><img alt='Matebook D15 AMD Ryzen 5-5500U 8GB 512GB SSD 15.6\" W11 Dizüstü Bilgisayar (Huawei Türkiye Garantili)' class=\"review-icon\" loading=\"lazy\" src=\"https://cdn.dsmcdn.com/mobile/reviewrating/kamera-emoji6x.png\"/></div><div class=\"price-promotion-container\"><div class=\"low-price-in-last-month\"><span><i class=\"i-chart-down\"></i> Son <span>30</span> Günün En Düşük Fiyatı!</span></div><div class=\"prc-cntnr lowest-price discountedPriceBox\"><div class=\"prc-box-dscntd\">11.999 TL</div></div></div><div class=\"campaign-view-v2\"></div></div>,\n",
       " <div class=\"product-down\"><div><div class=\"prdct-desc-cntnr\"><div class=\"prdct-desc-cntnr-ttl-w two-line-text\"><span class=\"prdct-desc-cntnr-ttl\" title=\"LENOVO\">LENOVO</span><span class=\"prdct-desc-cntnr-name hasRatings\" title='Ideapad Intel Celeron N4020 4GB 128GB SSD 14\" HD DOS Dizüstü Bilgisayar 81VU006STX'>Ideapad Intel Celeron N4020 4GB 128GB SSD 14\" HD DOS Dizüstü Bilgisayar 81VU006STX</span></div></div></div><div class=\"ratings-container\"><div class=\"ratings\"><div class=\"star-w\"><div class=\"empty\"><div class=\"star\"></div></div><div class=\"full\" style=\"width:100%;max-width:100%\"><div class=\"star\"></div></div></div><div class=\"star-w\"><div class=\"empty\"><div class=\"star\"></div></div><div class=\"full\" style=\"width:100%;max-width:100%\"><div class=\"star\"></div></div></div><div class=\"star-w\"><div class=\"empty\"><div class=\"star\"></div></div><div class=\"full\" style=\"width:100%;max-width:100%\"><div class=\"star\"></div></div></div><div class=\"star-w\"><div class=\"empty\"><div class=\"star\"></div></div><div class=\"full\" style=\"width:100%;max-width:100%\"><div class=\"star\"></div></div></div><div class=\"star-w\"><div class=\"empty\"><div class=\"star\"></div></div><div class=\"full\" style=\"width:31%;max-width:100%\"><div class=\"star\"></div></div></div><span class=\"ratingCount\">(654)</span></div><img alt='Ideapad Intel Celeron N4020 4GB 128GB SSD 14\" HD DOS Dizüstü Bilgisayar 81VU006STX' class=\"review-icon\" loading=\"lazy\" src=\"https://cdn.dsmcdn.com/mobile/reviewrating/kamera-emoji6x.png\"/></div><div class=\"price-promotion-container\"><div class=\"prc-cntnr discountedPriceBox\"><div class=\"prc-box-dscntd\">5.459 TL</div></div></div><div class=\"campaign-view-v2\"></div></div>,\n",
       " <div class=\"product-down\"><div><div class=\"prdct-desc-cntnr\"><div class=\"prdct-desc-cntnr-ttl-w two-line-text\"><span class=\"prdct-desc-cntnr-ttl\" title=\"Casper\">Casper</span><span class=\"prdct-desc-cntnr-name hasRatings\" title=\"Nirvana C500.1135-bv00x-g-f Intel Core I5-1135g7 16gb Ram 500 Nvme Ssd Freedos\">Nirvana C500.1135-bv00x-g-f Intel Core I5-1135g7 16gb Ram 500 Nvme Ssd Freedos</span></div></div></div><div class=\"ratings-container\"><div class=\"ratings\"><div class=\"star-w\"><div class=\"empty\"><div class=\"star\"></div></div><div class=\"full\" style=\"width:100%;max-width:100%\"><div class=\"star\"></div></div></div><div class=\"star-w\"><div class=\"empty\"><div class=\"star\"></div></div><div class=\"full\" style=\"width:100%;max-width:100%\"><div class=\"star\"></div></div></div><div class=\"star-w\"><div class=\"empty\"><div class=\"star\"></div></div><div class=\"full\" style=\"width:100%;max-width:100%\"><div class=\"star\"></div></div></div><div class=\"star-w\"><div class=\"empty\"><div class=\"star\"></div></div><div class=\"full\" style=\"width:100%;max-width:100%\"><div class=\"star\"></div></div></div><div class=\"star-w\"><div class=\"empty\"><div class=\"star\"></div></div><div class=\"full\" style=\"width:53%;max-width:100%\"><div class=\"star\"></div></div></div><span class=\"ratingCount\">(53)</span></div><img alt=\"Nirvana C500.1135-bv00x-g-f Intel Core I5-1135g7 16gb Ram 500 Nvme Ssd Freedos\" class=\"review-icon\" loading=\"lazy\" src=\"https://cdn.dsmcdn.com/mobile/reviewrating/kamera-emoji6x.png\"/></div><div class=\"price-promotion-container\"><div class=\"low-price-in-last-month\"><span><i class=\"i-chart-down\"></i> Son <span>30</span> Günün En Düşük Fiyatı!</span></div><div class=\"prc-cntnr lowest-price discountedPriceBox\"><div class=\"prc-box-orgnl\">9.789 TL</div><div class=\"prc-box-dscntd\">9.647 TL</div></div></div><div class=\"campaign-view-v2\"></div></div>,\n",
       " <div class=\"product-down\"><div><div class=\"prdct-desc-cntnr\"><div class=\"prdct-desc-cntnr-ttl-w two-line-text\"><span class=\"prdct-desc-cntnr-ttl\" title=\"Hometech\">Hometech</span><span class=\"prdct-desc-cntnr-name hasRatings\" title=\"Alfa 470c Rose Gold Intel Celeron N4020 4 Gb 128 Gb Ssd 14.1 Hd Windows 10 Home Dizüstü Bilgisayar\">Alfa 470c Rose Gold Intel Celeron N4020 4 Gb 128 Gb Ssd 14.1 Hd Windows 10 Home Dizüstü Bilgisayar</span></div></div></div><div class=\"ratings-container\"><div class=\"ratings\"><div class=\"star-w\"><div class=\"empty\"><div class=\"star\"></div></div><div class=\"full\" style=\"width:100%;max-width:100%\"><div class=\"star\"></div></div></div><div class=\"star-w\"><div class=\"empty\"><div class=\"star\"></div></div><div class=\"full\" style=\"width:100%;max-width:100%\"><div class=\"star\"></div></div></div><div class=\"star-w\"><div class=\"empty\"><div class=\"star\"></div></div><div class=\"full\" style=\"width:100%;max-width:100%\"><div class=\"star\"></div></div></div><div class=\"star-w\"><div class=\"empty\"><div class=\"star\"></div></div><div class=\"full\" style=\"width:100%;max-width:100%\"><div class=\"star\"></div></div></div><div class=\"star-w\"><div class=\"empty\"><div class=\"star\"></div></div><div class=\"full\" style=\"width:10%;max-width:100%\"><div class=\"star\"></div></div></div><span class=\"ratingCount\">(71)</span></div><img alt=\"Alfa 470c Rose Gold Intel Celeron N4020 4 Gb 128 Gb Ssd 14.1 Hd Windows 10 Home Dizüstü Bilgisayar\" class=\"review-icon\" loading=\"lazy\" src=\"https://cdn.dsmcdn.com/mobile/reviewrating/kamera-emoji6x.png\"/></div><div class=\"price-promotion-container\"><div class=\"prc-cntnr discountedPriceBox\"><div class=\"prc-box-dscntd\">3.999 TL</div></div></div><div class=\"campaign-view-v2\"></div></div>,\n",
       " <div class=\"product-down\"><div><div class=\"prdct-desc-cntnr\"><div class=\"prdct-desc-cntnr-ttl-w two-line-text\"><span class=\"prdct-desc-cntnr-ttl\" title=\"Apple\">Apple</span><span class=\"prdct-desc-cntnr-name hasRatings\" title='Macbook Air 13.6\" M2 8gb 256gb Ssd Gece Yarısı'>Macbook Air 13.6\" M2 8gb 256gb Ssd Gece Yarısı</span></div></div></div><div class=\"ratings-container\"><div class=\"ratings\"><div class=\"star-w\"><div class=\"empty\"><div class=\"star\"></div></div><div class=\"full\" style=\"width:100%;max-width:100%\"><div class=\"star\"></div></div></div><div class=\"star-w\"><div class=\"empty\"><div class=\"star\"></div></div><div class=\"full\" style=\"width:100%;max-width:100%\"><div class=\"star\"></div></div></div><div class=\"star-w\"><div class=\"empty\"><div class=\"star\"></div></div><div class=\"full\" style=\"width:100%;max-width:100%\"><div class=\"star\"></div></div></div><div class=\"star-w\"><div class=\"empty\"><div class=\"star\"></div></div><div class=\"full\" style=\"width:100%;max-width:100%\"><div class=\"star\"></div></div></div><div class=\"star-w\"><div class=\"empty\"><div class=\"star\"></div></div><div class=\"full\" style=\"width:79%;max-width:100%\"><div class=\"star\"></div></div></div><span class=\"ratingCount\">(75)</span></div><img alt='Macbook Air 13.6\" M2 8gb 256gb Ssd Gece Yarısı' class=\"review-icon\" loading=\"lazy\" src=\"https://cdn.dsmcdn.com/mobile/reviewrating/kamera-emoji6x.png\"/></div><div class=\"price-promotion-container\"><div class=\"prc-cntnr discountedPriceBox\"><div class=\"prc-box-dscntd\">27.999,90 TL</div></div></div><div class=\"campaign-view-v2\"></div></div>,\n",
       " <div class=\"product-down\"><div><div class=\"prdct-desc-cntnr\"><div class=\"prdct-desc-cntnr-ttl-w two-line-text\"><span class=\"prdct-desc-cntnr-ttl\" title=\"LENOVO\">LENOVO</span><span class=\"prdct-desc-cntnr-name hasRatings\" title=\"IdeaPad 3 Intel Core i3-1115G4 8GB 512GB SSD DOS 15.6'' FHD Laptop (Lenovo TR Garantili) 82H802XDTX\">IdeaPad 3 Intel Core i3-1115G4 8GB 512GB SSD DOS 15.6'' FHD Laptop (Lenovo TR Garantili) 82H802XDTX</span></div></div></div><div class=\"ratings-container\"><div class=\"ratings\"><div class=\"star-w\"><div class=\"empty\"><div class=\"star\"></div></div><div class=\"full\" style=\"width:100%;max-width:100%\"><div class=\"star\"></div></div></div><div class=\"star-w\"><div class=\"empty\"><div class=\"star\"></div></div><div class=\"full\" style=\"width:100%;max-width:100%\"><div class=\"star\"></div></div></div><div class=\"star-w\"><div class=\"empty\"><div class=\"star\"></div></div><div class=\"full\" style=\"width:100%;max-width:100%\"><div class=\"star\"></div></div></div><div class=\"star-w\"><div class=\"empty\"><div class=\"star\"></div></div><div class=\"full\" style=\"width:100%;max-width:100%\"><div class=\"star\"></div></div></div><div class=\"star-w\"><div class=\"empty\"><div class=\"star\"></div></div><div class=\"full\" style=\"width:18%;max-width:100%\"><div class=\"star\"></div></div></div><span class=\"ratingCount\">(34)</span></div><img alt=\"IdeaPad 3 Intel Core i3-1115G4 8GB 512GB SSD DOS 15.6'' FHD Laptop (Lenovo TR Garantili) 82H802XDTX\" class=\"review-icon\" loading=\"lazy\" src=\"https://cdn.dsmcdn.com/mobile/reviewrating/kamera-emoji6x.png\"/></div><div class=\"price-promotion-container\"><div class=\"low-price-in-last-month\"><span><i class=\"i-chart-down\"></i> Son <span>30</span> Günün En Düşük Fiyatı!</span></div><div class=\"prc-cntnr lowest-price discountedPriceBox\"><div class=\"prc-box-dscntd\">7.999 TL</div></div></div><div class=\"campaign-view-v2\"></div></div>,\n",
       " <div class=\"product-down\"><div><div class=\"prdct-desc-cntnr\"><div class=\"prdct-desc-cntnr-ttl-w two-line-text\"><span class=\"prdct-desc-cntnr-ttl\" title=\"Casper\">Casper</span><span class=\"prdct-desc-cntnr-name hasRatings\" title=\"Excalibur G770.1245-bvh0x-b 12.nesil Intel Core I5-12450h 16 Gb Ram 500 Gb Ssd 4gb Gtx 1650 Freedos\">Excalibur G770.1245-bvh0x-b 12.nesil Intel Core I5-12450h 16 Gb Ram 500 Gb Ssd 4gb Gtx 1650 Freedos</span></div></div></div><div class=\"ratings-container\"><div class=\"ratings\"><div class=\"star-w\"><div class=\"empty\"><div class=\"star\"></div></div><div class=\"full\" style=\"width:100%;max-width:100%\"><div class=\"star\"></div></div></div><div class=\"star-w\"><div class=\"empty\"><div class=\"star\"></div></div><div class=\"full\" style=\"width:100%;max-width:100%\"><div class=\"star\"></div></div></div><div class=\"star-w\"><div class=\"empty\"><div class=\"star\"></div></div><div class=\"full\" style=\"width:100%;max-width:100%\"><div class=\"star\"></div></div></div><div class=\"star-w\"><div class=\"empty\"><div class=\"star\"></div></div><div class=\"full\" style=\"width:80%;max-width:100%\"><div class=\"star\"></div></div></div><div class=\"star-w\"><div class=\"empty\"><div class=\"star\"></div></div><div class=\"full\" style=\"width:0;max-width:100%\"><div class=\"star\"></div></div></div><span class=\"ratingCount\">(25)</span></div><img alt=\"Excalibur G770.1245-bvh0x-b 12.nesil Intel Core I5-12450h 16 Gb Ram 500 Gb Ssd 4gb Gtx 1650 Freedos\" class=\"review-icon\" loading=\"lazy\" src=\"https://cdn.dsmcdn.com/mobile/reviewrating/kamera-emoji6x.png\"/></div><div class=\"price-promotion-container\"><div class=\"low-price-in-last-month\"><span><i class=\"i-chart-down\"></i> Son <span>30</span> Günün En Düşük Fiyatı!</span></div><div class=\"prc-cntnr lowest-price discountedPriceBox\"><div class=\"prc-box-orgnl\">15.999 TL</div><div class=\"prc-box-dscntd\">15.599 TL</div></div></div><div class=\"campaign-view-v2\"></div></div>,\n",
       " <div class=\"product-down\"><div><div class=\"prdct-desc-cntnr\"><div class=\"prdct-desc-cntnr-ttl-w two-line-text\"><span class=\"prdct-desc-cntnr-ttl\" title=\"Monster\">Monster</span><span class=\"prdct-desc-cntnr-name hasRatings\" title='Abra A5 V16.7.3 Intel Core I5-11400h 16gb Ram 500gb Ssd 4gb Gtx1650 Freedos 15.6\" Fhd 144hz'>Abra A5 V16.7.3 Intel Core I5-11400h 16gb Ram 500gb Ssd 4gb Gtx1650 Freedos 15.6\" Fhd 144hz</span></div></div></div><div class=\"ratings-container\"><div class=\"ratings\"><div class=\"star-w\"><div class=\"empty\"><div class=\"star\"></div></div><div class=\"full\" style=\"width:100%;max-width:100%\"><div class=\"star\"></div></div></div><div class=\"star-w\"><div class=\"empty\"><div class=\"star\"></div></div><div class=\"full\" style=\"width:100%;max-width:100%\"><div class=\"star\"></div></div></div><div class=\"star-w\"><div class=\"empty\"><div class=\"star\"></div></div><div class=\"full\" style=\"width:100%;max-width:100%\"><div class=\"star\"></div></div></div><div class=\"star-w\"><div class=\"empty\"><div class=\"star\"></div></div><div class=\"full\" style=\"width:100%;max-width:100%\"><div class=\"star\"></div></div></div><div class=\"star-w\"><div class=\"empty\"><div class=\"star\"></div></div><div class=\"full\" style=\"width:63%;max-width:100%\"><div class=\"star\"></div></div></div><span class=\"ratingCount\">(911)</span></div><img alt='Abra A5 V16.7.3 Intel Core I5-11400h 16gb Ram 500gb Ssd 4gb Gtx1650 Freedos 15.6\" Fhd 144hz' class=\"review-icon\" loading=\"lazy\" src=\"https://cdn.dsmcdn.com/mobile/reviewrating/kamera-emoji6x.png\"/></div><div class=\"price-promotion-container\"><div class=\"prc-cntnr discountedPriceBox\"><div class=\"prc-box-dscntd\">16.201,99 TL</div></div></div><div class=\"campaign-view-v2\"></div></div>,\n",
       " <div class=\"product-down\"><div><div class=\"prdct-desc-cntnr\"><div class=\"prdct-desc-cntnr-ttl-w two-line-text\"><span class=\"prdct-desc-cntnr-ttl\" title=\"Casper\">Casper</span><span class=\"prdct-desc-cntnr-name hasRatings\" title=\"Excalibur G770.1245-dfj0x-b Intel Core I5-12450h 32gb Ram 1tb Ssd 4gb Rtx3050 Freedos\">Excalibur G770.1245-dfj0x-b Intel Core I5-12450h 32gb Ram 1tb Ssd 4gb Rtx3050 Freedos</span></div></div></div><div class=\"ratings-container\"><div class=\"ratings\"><div class=\"star-w\"><div class=\"empty\"><div class=\"star\"></div></div><div class=\"full\" style=\"width:100%;max-width:100%\"><div class=\"star\"></div></div></div><div class=\"star-w\"><div class=\"empty\"><div class=\"star\"></div></div><div class=\"full\" style=\"width:100%;max-width:100%\"><div class=\"star\"></div></div></div><div class=\"star-w\"><div class=\"empty\"><div class=\"star\"></div></div><div class=\"full\" style=\"width:100%;max-width:100%\"><div class=\"star\"></div></div></div><div class=\"star-w\"><div class=\"empty\"><div class=\"star\"></div></div><div class=\"full\" style=\"width:100%;max-width:100%\"><div class=\"star\"></div></div></div><div class=\"star-w\"><div class=\"empty\"><div class=\"star\"></div></div><div class=\"full\" style=\"width:91%;max-width:100%\"><div class=\"star\"></div></div></div><span class=\"ratingCount\">(23)</span></div><img alt=\"Excalibur G770.1245-dfj0x-b Intel Core I5-12450h 32gb Ram 1tb Ssd 4gb Rtx3050 Freedos\" class=\"review-icon\" loading=\"lazy\" src=\"https://cdn.dsmcdn.com/mobile/reviewrating/kamera-emoji6x.png\"/></div><div class=\"price-promotion-container\"><div class=\"low-price-in-last-month\"><span><i class=\"i-chart-down\"></i> Son <span>30</span> Günün En Düşük Fiyatı!</span></div><div class=\"prc-cntnr lowest-price discountedPriceBox\"><div class=\"prc-box-orgnl\">19.199 TL</div><div class=\"prc-box-dscntd\">18.499 TL</div></div></div><div class=\"campaign-view-v2\"></div></div>,\n",
       " <div class=\"product-down\"><div><div class=\"prdct-desc-cntnr\"><div class=\"prdct-desc-cntnr-ttl-w two-line-text\"><span class=\"prdct-desc-cntnr-ttl\" title=\"Casper\">Casper</span><span class=\"prdct-desc-cntnr-name hasRatings\" title=\"Excalibur G770.1245-bvj0x-b Intel 12.nesil I5-12450h 16gb Ram 500gb Nvme Ssd 4gb Rtx3050 Freedos\">Excalibur G770.1245-bvj0x-b Intel 12.nesil I5-12450h 16gb Ram 500gb Nvme Ssd 4gb Rtx3050 Freedos</span></div></div></div><div class=\"ratings-container\"><div class=\"ratings\"><div class=\"star-w\"><div class=\"empty\"><div class=\"star\"></div></div><div class=\"full\" style=\"width:100%;max-width:100%\"><div class=\"star\"></div></div></div><div class=\"star-w\"><div class=\"empty\"><div class=\"star\"></div></div><div class=\"full\" style=\"width:100%;max-width:100%\"><div class=\"star\"></div></div></div><div class=\"star-w\"><div class=\"empty\"><div class=\"star\"></div></div><div class=\"full\" style=\"width:100%;max-width:100%\"><div class=\"star\"></div></div></div><div class=\"star-w\"><div class=\"empty\"><div class=\"star\"></div></div><div class=\"full\" style=\"width:100%;max-width:100%\"><div class=\"star\"></div></div></div><div class=\"star-w\"><div class=\"empty\"><div class=\"star\"></div></div><div class=\"full\" style=\"width:65%;max-width:100%\"><div class=\"star\"></div></div></div><span class=\"ratingCount\">(62)</span></div><img alt=\"Excalibur G770.1245-bvj0x-b Intel 12.nesil I5-12450h 16gb Ram 500gb Nvme Ssd 4gb Rtx3050 Freedos\" class=\"review-icon\" loading=\"lazy\" src=\"https://cdn.dsmcdn.com/mobile/reviewrating/kamera-emoji6x.png\"/></div><div class=\"price-promotion-container\"><div class=\"low-price-in-last-month\"><span><i class=\"i-chart-down\"></i> Son <span>30</span> Günün En Düşük Fiyatı!</span></div><div class=\"prc-cntnr lowest-price discountedPriceBox\"><div class=\"prc-box-orgnl\">17.499 TL</div><div class=\"prc-box-dscntd\">16.999 TL</div></div></div><div class=\"campaign-view-v2\"></div></div>,\n",
       " <div class=\"product-down\"><div><div class=\"prdct-desc-cntnr\"><div class=\"prdct-desc-cntnr-ttl-w two-line-text\"><span class=\"prdct-desc-cntnr-ttl\" title=\"Game Garaj\">Game Garaj</span><span class=\"prdct-desc-cntnr-name hasRatings\" title='Slayer 5xl-3050ti C5 I5-11400h 16gb 500gb 4gb Rtx3050ti 17.3\" Free Dos'>Slayer 5xl-3050ti C5 I5-11400h 16gb 500gb 4gb Rtx3050ti 17.3\" Free Dos</span></div></div></div><div class=\"ratings-container\"><div class=\"ratings\"><div class=\"star-w\"><div class=\"empty\"><div class=\"star\"></div></div><div class=\"full\" style=\"width:100%;max-width:100%\"><div class=\"star\"></div></div></div><div class=\"star-w\"><div class=\"empty\"><div class=\"star\"></div></div><div class=\"full\" style=\"width:100%;max-width:100%\"><div class=\"star\"></div></div></div><div class=\"star-w\"><div class=\"empty\"><div class=\"star\"></div></div><div class=\"full\" style=\"width:100%;max-width:100%\"><div class=\"star\"></div></div></div><div class=\"star-w\"><div class=\"empty\"><div class=\"star\"></div></div><div class=\"full\" style=\"width:100%;max-width:100%\"><div class=\"star\"></div></div></div><div class=\"star-w\"><div class=\"empty\"><div class=\"star\"></div></div><div class=\"full\" style=\"width:24%;max-width:100%\"><div class=\"star\"></div></div></div><span class=\"ratingCount\">(17)</span></div><img alt='Slayer 5xl-3050ti C5 I5-11400h 16gb 500gb 4gb Rtx3050ti 17.3\" Free Dos' class=\"review-icon\" loading=\"lazy\" src=\"https://cdn.dsmcdn.com/mobile/reviewrating/kamera-emoji6x.png\"/></div><div class=\"price-promotion-container\"><div class=\"prc-cntnr discountedPriceBox\"><div class=\"prc-box-dscntd\">19.749 TL</div></div></div><div class=\"campaign-view-v2\"></div></div>,\n",
       " <div class=\"product-down\"><div><div class=\"prdct-desc-cntnr no-rating-score\"><div class=\"prdct-desc-cntnr-ttl-w two-line-text\"><span class=\"prdct-desc-cntnr-ttl\" title=\"ASUS\">ASUS</span><span class=\"prdct-desc-cntnr-name\" title=\"X515EA-BQ1190 Intel Core i5-1135G7 8GB 512GB SSD DOS 15.6'' FHD Laptop (ASUS Türkiye Garantili)\">X515EA-BQ1190 Intel Core i5-1135G7 8GB 512GB SSD DOS 15.6'' FHD Laptop (ASUS Türkiye Garantili)</span></div></div></div><div class=\"ratings-container\"></div><div class=\"price-promotion-container\"><div class=\"low-price-in-last-month\"><span><i class=\"i-chart-down\"></i> Son <span>30</span> Günün En Düşük Fiyatı!</span></div><div class=\"prc-cntnr lowest-price discountedPriceBox\"><div class=\"prc-box-orgnl\">11.298,99 TL</div><div class=\"prc-box-dscntd\">10.999 TL</div></div></div><div class=\"campaign-view-v2\"></div></div>,\n",
       " <div class=\"product-down\"><div><div class=\"prdct-desc-cntnr\"><div class=\"prdct-desc-cntnr-ttl-w two-line-text\"><span class=\"prdct-desc-cntnr-ttl\" title=\"LENOVO\">LENOVO</span><span class=\"prdct-desc-cntnr-name hasRatings\" title=\"IdeaPad 3 Intel Core i3-10110U 8GB 256GB SSD D0S 15.6'' FHD Laptop (Lenovo TR Garantili) 81WB01G1TX\">IdeaPad 3 Intel Core i3-10110U 8GB 256GB SSD D0S 15.6'' FHD Laptop (Lenovo TR Garantili) 81WB01G1TX</span></div></div></div><div class=\"ratings-container\"><div class=\"ratings\"><div class=\"star-w\"><div class=\"empty\"><div class=\"star\"></div></div><div class=\"full\" style=\"width:100%;max-width:100%\"><div class=\"star\"></div></div></div><div class=\"star-w\"><div class=\"empty\"><div class=\"star\"></div></div><div class=\"full\" style=\"width:100%;max-width:100%\"><div class=\"star\"></div></div></div><div class=\"star-w\"><div class=\"empty\"><div class=\"star\"></div></div><div class=\"full\" style=\"width:100%;max-width:100%\"><div class=\"star\"></div></div></div><div class=\"star-w\"><div class=\"empty\"><div class=\"star\"></div></div><div class=\"full\" style=\"width:100%;max-width:100%\"><div class=\"star\"></div></div></div><div class=\"star-w\"><div class=\"empty\"><div class=\"star\"></div></div><div class=\"full\" style=\"width:73%;max-width:100%\"><div class=\"star\"></div></div></div><span class=\"ratingCount\">(168)</span></div><img alt=\"IdeaPad 3 Intel Core i3-10110U 8GB 256GB SSD D0S 15.6'' FHD Laptop (Lenovo TR Garantili) 81WB01G1TX\" class=\"review-icon\" loading=\"lazy\" src=\"https://cdn.dsmcdn.com/mobile/reviewrating/kamera-emoji6x.png\"/></div><div class=\"price-promotion-container\"><div class=\"prc-cntnr discountedPriceBox\"><div class=\"prc-box-dscntd\">8.500 TL</div></div></div><div class=\"campaign-view-v2\"></div></div>,\n",
       " <div class=\"product-down\"><div><div class=\"prdct-desc-cntnr no-rating-score\"><div class=\"prdct-desc-cntnr-ttl-w two-line-text\"><span class=\"prdct-desc-cntnr-ttl\" title=\"MSI\">MSI</span><span class=\"prdct-desc-cntnr-name\" title=\"Nb Katana Gf76 11ud-875tr I7-11800h 16gb Ram 1tb Ssd 4gb Rtx3050tı 17.3 Fhd 144hz W11\">Nb Katana Gf76 11ud-875tr I7-11800h 16gb Ram 1tb Ssd 4gb Rtx3050tı 17.3 Fhd 144hz W11</span></div></div></div><div class=\"ratings-container\"></div><div class=\"price-promotion-container\"><div class=\"prc-cntnr discountedPriceBox\"><div class=\"prc-box-orgnl\">35.499 TL</div><div class=\"prc-box-dscntd\">34.999 TL</div></div></div><div class=\"campaign-view-v2\"></div></div>,\n",
       " <div class=\"product-down\"><div><div class=\"prdct-desc-cntnr no-rating-score\"><div class=\"prdct-desc-cntnr-ttl-w two-line-text\"><span class=\"prdct-desc-cntnr-ttl\" title=\"Casper\">Casper</span><span class=\"prdct-desc-cntnr-name\" title=\"Excalibur G870.1245-bf60x-b Intel Core I5-12450h 16gb Ram 1tb Ssd 6 Gb Rtx 3060 Freedos\">Excalibur G870.1245-bf60x-b Intel Core I5-12450h 16gb Ram 1tb Ssd 6 Gb Rtx 3060 Freedos</span></div></div></div><div class=\"ratings-container\"></div><div class=\"price-promotion-container\"><div class=\"low-price-in-last-month\"><span><i class=\"i-chart-down\"></i> Son <span>14</span> Günün En Düşük Fiyatı!</span></div><div class=\"prc-cntnr lowest-price discountedPriceBox\"><div class=\"prc-box-orgnl\">23.599 TL</div><div class=\"prc-box-dscntd\">22.599 TL</div></div></div><div class=\"campaign-view-v2\"></div></div>,\n",
       " <div class=\"product-down\"><div><div class=\"prdct-desc-cntnr\"><div class=\"prdct-desc-cntnr-ttl-w two-line-text\"><span class=\"prdct-desc-cntnr-ttl\" title=\"LENOVO\">LENOVO</span><span class=\"prdct-desc-cntnr-name hasRatings\" title='82hs00nstx Ideapad Flex 5 I5-1135g7 8 Gb Ram 256 Gb Ssd 14\" W10 Dizüstü Bilgisayar'>82hs00nstx Ideapad Flex 5 I5-1135g7 8 Gb Ram 256 Gb Ssd 14\" W10 Dizüstü Bilgisayar</span></div></div></div><div class=\"ratings-container\"><div class=\"ratings\"><div class=\"star-w\"><div class=\"empty\"><div class=\"star\"></div></div><div class=\"full\" style=\"width:100%;max-width:100%\"><div class=\"star\"></div></div></div><div class=\"star-w\"><div class=\"empty\"><div class=\"star\"></div></div><div class=\"full\" style=\"width:100%;max-width:100%\"><div class=\"star\"></div></div></div><div class=\"star-w\"><div class=\"empty\"><div class=\"star\"></div></div><div class=\"full\" style=\"width:100%;max-width:100%\"><div class=\"star\"></div></div></div><div class=\"star-w\"><div class=\"empty\"><div class=\"star\"></div></div><div class=\"full\" style=\"width:100%;max-width:100%\"><div class=\"star\"></div></div></div><div class=\"star-w\"><div class=\"empty\"><div class=\"star\"></div></div><div class=\"full\" style=\"width:73%;max-width:100%\"><div class=\"star\"></div></div></div><span class=\"ratingCount\">(30)</span></div><img alt='82hs00nstx Ideapad Flex 5 I5-1135g7 8 Gb Ram 256 Gb Ssd 14\" W10 Dizüstü Bilgisayar' class=\"review-icon\" loading=\"lazy\" src=\"https://cdn.dsmcdn.com/mobile/reviewrating/kamera-emoji6x.png\"/></div><div class=\"price-promotion-container\"><div class=\"low-price-in-last-month\"><span><i class=\"i-chart-down\"></i> Son <span>30</span> Günün En Düşük Fiyatı!</span></div><div class=\"prc-cntnr lowest-price discountedPriceBox\"><div class=\"prc-box-dscntd\">14.998,99 TL</div></div></div><div class=\"campaign-view-v2\"></div></div>,\n",
       " <div class=\"product-down\"><div><div class=\"prdct-desc-cntnr\"><div class=\"prdct-desc-cntnr-ttl-w two-line-text\"><span class=\"prdct-desc-cntnr-ttl\" title=\"Monster\">Monster</span><span class=\"prdct-desc-cntnr-name hasRatings\" title='Abra A5 V19.1 Intel Core I5-12500h 8 Gb Ram 500gb Ssd 4gb Gtx1650 Freedos 15,6\" Fhd 144hz'>Abra A5 V19.1 Intel Core I5-12500h 8 Gb Ram 500gb Ssd 4gb Gtx1650 Freedos 15,6\" Fhd 144hz</span></div></div></div><div class=\"ratings-container\"><div class=\"ratings\"><div class=\"star-w\"><div class=\"empty\"><div class=\"star\"></div></div><div class=\"full\" style=\"width:100%;max-width:100%\"><div class=\"star\"></div></div></div><div class=\"star-w\"><div class=\"empty\"><div class=\"star\"></div></div><div class=\"full\" style=\"width:100%;max-width:100%\"><div class=\"star\"></div></div></div><div class=\"star-w\"><div class=\"empty\"><div class=\"star\"></div></div><div class=\"full\" style=\"width:100%;max-width:100%\"><div class=\"star\"></div></div></div><div class=\"star-w\"><div class=\"empty\"><div class=\"star\"></div></div><div class=\"full\" style=\"width:100%;max-width:100%\"><div class=\"star\"></div></div></div><div class=\"star-w\"><div class=\"empty\"><div class=\"star\"></div></div><div class=\"full\" style=\"width:60%;max-width:100%\"><div class=\"star\"></div></div></div><span class=\"ratingCount\">(10)</span></div><img alt='Abra A5 V19.1 Intel Core I5-12500h 8 Gb Ram 500gb Ssd 4gb Gtx1650 Freedos 15,6\" Fhd 144hz' class=\"review-icon\" loading=\"lazy\" src=\"https://cdn.dsmcdn.com/mobile/reviewrating/kamera-emoji6x.png\"/></div><div class=\"price-promotion-container\"><div class=\"low-price-in-last-month\"><span><i class=\"i-chart-down\"></i> Son <span>30</span> Günün En Düşük Fiyatı!</span></div><div class=\"prc-cntnr lowest-price discountedPriceBox\"><div class=\"prc-box-orgnl\">16.999 TL</div><div class=\"prc-box-dscntd\">16.599 TL</div></div></div><div class=\"campaign-view-v2\"><div class=\"cross-promotion\"><img alt=\"Birlikte Al Kazan\" class=\"cross-promotion-icon\" src=\"https://cdn.dsmcdn.com/web/production/campaign-cross-promotion-icon.svg\"/><span class=\"cross-promotion-title\">Birlikte Al Kazan</span></div></div></div>,\n",
       " <div class=\"product-down\"><div><div class=\"prdct-desc-cntnr\"><div class=\"prdct-desc-cntnr-ttl-w two-line-text\"><span class=\"prdct-desc-cntnr-ttl\" title=\"LENOVO\">LENOVO</span><span class=\"prdct-desc-cntnr-name hasRatings\" title='V15 82kd0045tx Ryzen R7-5700u 16gb 512gb Ssd 15.6\" Fhd Freedos Taşınabilir Bilgisayar'>V15 82kd0045tx Ryzen R7-5700u 16gb 512gb Ssd 15.6\" Fhd Freedos Taşınabilir Bilgisayar</span></div></div></div><div class=\"ratings-container\"><div class=\"ratings\"><div class=\"star-w\"><div class=\"empty\"><div class=\"star\"></div></div><div class=\"full\" style=\"width:100%;max-width:100%\"><div class=\"star\"></div></div></div><div class=\"star-w\"><div class=\"empty\"><div class=\"star\"></div></div><div class=\"full\" style=\"width:100%;max-width:100%\"><div class=\"star\"></div></div></div><div class=\"star-w\"><div class=\"empty\"><div class=\"star\"></div></div><div class=\"full\" style=\"width:100%;max-width:100%\"><div class=\"star\"></div></div></div><div class=\"star-w\"><div class=\"empty\"><div class=\"star\"></div></div><div class=\"full\" style=\"width:100%;max-width:100%\"><div class=\"star\"></div></div></div><div class=\"star-w\"><div class=\"empty\"><div class=\"star\"></div></div><div class=\"full\" style=\"width:72%;max-width:100%\"><div class=\"star\"></div></div></div><span class=\"ratingCount\">(50)</span></div><img alt='V15 82kd0045tx Ryzen R7-5700u 16gb 512gb Ssd 15.6\" Fhd Freedos Taşınabilir Bilgisayar' class=\"review-icon\" loading=\"lazy\" src=\"https://cdn.dsmcdn.com/mobile/reviewrating/kamera-emoji6x.png\"/></div><div class=\"price-promotion-container\"><div class=\"low-price-in-last-month\"><span><i class=\"i-chart-down\"></i> Son <span>30</span> Günün En Düşük Fiyatı!</span></div><div class=\"prc-cntnr lowest-price discountedPriceBox\"><div class=\"prc-box-orgnl\">12.119,99 TL</div><div class=\"prc-box-dscntd\">11.914 TL</div></div></div><div class=\"campaign-view-v2\"></div></div>,\n",
       " <div class=\"product-down\"><div><div class=\"prdct-desc-cntnr no-rating-score\"><div class=\"prdct-desc-cntnr-ttl-w two-line-text\"><span class=\"prdct-desc-cntnr-ttl\" title=\"Game Garaj\">Game Garaj</span><span class=\"prdct-desc-cntnr-name\" title='Slayer2 D5 10xl-3070ti C2 I7-12700h 32gb 1tb Ssd Rtx 3070tı 17.3\" Free Dos'>Slayer2 D5 10xl-3070ti C2 I7-12700h 32gb 1tb Ssd Rtx 3070tı 17.3\" Free Dos</span></div></div></div><div class=\"ratings-container\"></div><div class=\"price-promotion-container\"><div class=\"low-price-in-last-month\"><span><i class=\"i-chart-down\"></i> Son <span>30</span> Günün En Düşük Fiyatı!</span></div><div class=\"prc-cntnr lowest-price discountedPriceBox\"><div class=\"prc-box-orgnl\">42.671,20 TL</div><div class=\"prc-box-dscntd\">42.509,62 TL</div></div></div><div class=\"campaign-view-v2\"></div></div>,\n",
       " <div class=\"product-down\"><div><div class=\"prdct-desc-cntnr\"><div class=\"prdct-desc-cntnr-ttl-w two-line-text\"><span class=\"prdct-desc-cntnr-ttl\" title=\"Monster\">Monster</span><span class=\"prdct-desc-cntnr-name hasRatings\" title='Abra A5 V17.2.3 Intel Core I5-11400h 16gb Ram 500gb Ssd 4gb Rtx3050ti Freedos 15.6\" Fhd 144hz'>Abra A5 V17.2.3 Intel Core I5-11400h 16gb Ram 500gb Ssd 4gb Rtx3050ti Freedos 15.6\" Fhd 144hz</span></div></div></div><div class=\"ratings-container\"><div class=\"ratings\"><div class=\"star-w\"><div class=\"empty\"><div class=\"star\"></div></div><div class=\"full\" style=\"width:100%;max-width:100%\"><div class=\"star\"></div></div></div><div class=\"star-w\"><div class=\"empty\"><div class=\"star\"></div></div><div class=\"full\" style=\"width:100%;max-width:100%\"><div class=\"star\"></div></div></div><div class=\"star-w\"><div class=\"empty\"><div class=\"star\"></div></div><div class=\"full\" style=\"width:100%;max-width:100%\"><div class=\"star\"></div></div></div><div class=\"star-w\"><div class=\"empty\"><div class=\"star\"></div></div><div class=\"full\" style=\"width:100%;max-width:100%\"><div class=\"star\"></div></div></div><div class=\"star-w\"><div class=\"empty\"><div class=\"star\"></div></div><div class=\"full\" style=\"width:62%;max-width:100%\"><div class=\"star\"></div></div></div><span class=\"ratingCount\">(303)</span></div><img alt='Abra A5 V17.2.3 Intel Core I5-11400h 16gb Ram 500gb Ssd 4gb Rtx3050ti Freedos 15.6\" Fhd 144hz' class=\"review-icon\" loading=\"lazy\" src=\"https://cdn.dsmcdn.com/mobile/reviewrating/kamera-emoji6x.png\"/></div><div class=\"price-promotion-container\"><div class=\"low-price-in-last-month\"><span><i class=\"i-chart-down\"></i> Son <span>30</span> Günün En Düşük Fiyatı!</span></div><div class=\"prc-cntnr lowest-price discountedPriceBox\"><div class=\"prc-box-dscntd\">18.999 TL</div></div></div><div class=\"campaign-view-v2\"><div class=\"cross-promotion\"><img alt=\"Birlikte Al Kazan\" class=\"cross-promotion-icon\" src=\"https://cdn.dsmcdn.com/web/production/campaign-cross-promotion-icon.svg\"/><span class=\"cross-promotion-title\">Birlikte Al Kazan</span></div></div></div>,\n",
       " <div class=\"product-down\"><div><div class=\"prdct-desc-cntnr\"><div class=\"prdct-desc-cntnr-ttl-w two-line-text\"><span class=\"prdct-desc-cntnr-ttl\" title=\"HP\">HP</span><span class=\"prdct-desc-cntnr-name hasRatings\" title=\"Victus Gaming 15-FB0014NT AMD Ryzen 5-5600H 8GB 256GB SSD GTX1650 4GB 15.6'' FHD FreeDOS 71T75EA\">Victus Gaming 15-FB0014NT AMD Ryzen 5-5600H 8GB 256GB SSD GTX1650 4GB 15.6'' FHD FreeDOS 71T75EA</span></div></div></div><div class=\"ratings-container\"><div class=\"ratings\"><div class=\"star-w\"><div class=\"empty\"><div class=\"star\"></div></div><div class=\"full\" style=\"width:100%;max-width:100%\"><div class=\"star\"></div></div></div><div class=\"star-w\"><div class=\"empty\"><div class=\"star\"></div></div><div class=\"full\" style=\"width:100%;max-width:100%\"><div class=\"star\"></div></div></div><div class=\"star-w\"><div class=\"empty\"><div class=\"star\"></div></div><div class=\"full\" style=\"width:100%;max-width:100%\"><div class=\"star\"></div></div></div><div class=\"star-w\"><div class=\"empty\"><div class=\"star\"></div></div><div class=\"full\" style=\"width:100%;max-width:100%\"><div class=\"star\"></div></div></div><div class=\"star-w\"><div class=\"empty\"><div class=\"star\"></div></div><div class=\"full\" style=\"width:74%;max-width:100%\"><div class=\"star\"></div></div></div><span class=\"ratingCount\">(19)</span></div></div><div class=\"price-promotion-container\"><div class=\"prc-cntnr discountedPriceBox\"><div class=\"prc-box-dscntd\">13.998,99 TL</div></div></div><div class=\"campaign-view-v2\"></div></div>,\n",
       " <div class=\"product-down\"><div><div class=\"prdct-desc-cntnr\"><div class=\"prdct-desc-cntnr-ttl-w two-line-text\"><span class=\"prdct-desc-cntnr-ttl\" title=\"Apple\">Apple</span><span class=\"prdct-desc-cntnr-name hasRatings\" title='Macbook Pro 13.3\" M2 10c Gpu 8gb 256 Gb Ssd Uzay Grisi'>Macbook Pro 13.3\" M2 10c Gpu 8gb 256 Gb Ssd Uzay Grisi</span></div></div></div><div class=\"ratings-container\"><div class=\"ratings\"><div class=\"star-w\"><div class=\"empty\"><div class=\"star\"></div></div><div class=\"full\" style=\"width:100%;max-width:100%\"><div class=\"star\"></div></div></div><div class=\"star-w\"><div class=\"empty\"><div class=\"star\"></div></div><div class=\"full\" style=\"width:100%;max-width:100%\"><div class=\"star\"></div></div></div><div class=\"star-w\"><div class=\"empty\"><div class=\"star\"></div></div><div class=\"full\" style=\"width:100%;max-width:100%\"><div class=\"star\"></div></div></div><div class=\"star-w\"><div class=\"empty\"><div class=\"star\"></div></div><div class=\"full\" style=\"width:100%;max-width:100%\"><div class=\"star\"></div></div></div><div class=\"star-w\"><div class=\"empty\"><div class=\"star\"></div></div><div class=\"full\" style=\"width:100%;max-width:100%\"><div class=\"star\"></div></div></div><span class=\"ratingCount\">(15)</span></div><img alt='Macbook Pro 13.3\" M2 10c Gpu 8gb 256 Gb Ssd Uzay Grisi' class=\"review-icon\" loading=\"lazy\" src=\"https://cdn.dsmcdn.com/mobile/reviewrating/kamera-emoji6x.png\"/></div><div class=\"price-promotion-container\"><div class=\"prc-cntnr discountedPriceBox\"><div class=\"prc-box-dscntd\">30.599 TL</div></div></div><div class=\"campaign-view-v2\"></div></div>,\n",
       " <div class=\"product-down\"><div><div class=\"prdct-desc-cntnr\"><div class=\"prdct-desc-cntnr-ttl-w two-line-text\"><span class=\"prdct-desc-cntnr-ttl\" title=\"Monster\">Monster</span><span class=\"prdct-desc-cntnr-name hasRatings\" title='Huma H4 V5.1.4 Intel Core I5-1235u 8gb Ram 512gb Ssd Freedos 14,1\" Fhd Rose Gold'>Huma H4 V5.1.4 Intel Core I5-1235u 8gb Ram 512gb Ssd Freedos 14,1\" Fhd Rose Gold</span></div></div></div><div class=\"ratings-container\"><div class=\"ratings\"><div class=\"star-w\"><div class=\"empty\"><div class=\"star\"></div></div><div class=\"full\" style=\"width:100%;max-width:100%\"><div class=\"star\"></div></div></div><div class=\"star-w\"><div class=\"empty\"><div class=\"star\"></div></div><div class=\"full\" style=\"width:100%;max-width:100%\"><div class=\"star\"></div></div></div><div class=\"star-w\"><div class=\"empty\"><div class=\"star\"></div></div><div class=\"full\" style=\"width:100%;max-width:100%\"><div class=\"star\"></div></div></div><div class=\"star-w\"><div class=\"empty\"><div class=\"star\"></div></div><div class=\"full\" style=\"width:100%;max-width:100%\"><div class=\"star\"></div></div></div><div class=\"star-w\"><div class=\"empty\"><div class=\"star\"></div></div><div class=\"full\" style=\"width:100%;max-width:100%\"><div class=\"star\"></div></div></div><span class=\"ratingCount\">(3)</span></div><img alt='Huma H4 V5.1.4 Intel Core I5-1235u 8gb Ram 512gb Ssd Freedos 14,1\" Fhd Rose Gold' class=\"review-icon\" loading=\"lazy\" src=\"https://cdn.dsmcdn.com/mobile/reviewrating/kamera-emoji6x.png\"/></div><div class=\"price-promotion-container\"><div class=\"low-price-in-last-month\"><span><i class=\"i-chart-down\"></i> Son <span>30</span> Günün En Düşük Fiyatı!</span></div><div class=\"prc-cntnr lowest-price discountedPriceBox\"><div class=\"prc-box-orgnl\">12.699 TL</div><div class=\"prc-box-dscntd\">12.519 TL</div></div></div><div class=\"campaign-view-v2\"><div class=\"cross-promotion\"><img alt=\"Birlikte Al Kazan\" class=\"cross-promotion-icon\" src=\"https://cdn.dsmcdn.com/web/production/campaign-cross-promotion-icon.svg\"/><span class=\"cross-promotion-title\">Birlikte Al Kazan</span></div></div></div>]"
      ]
     },
     "execution_count": 6,
     "metadata": {},
     "output_type": "execute_result"
    }
   ],
   "source": [
    "scrapping_trendyol.get_products(1)"
   ]
  },
  {
   "cell_type": "code",
   "execution_count": null,
   "metadata": {},
   "outputs": [],
   "source": []
  }
 ],
 "metadata": {
  "kernelspec": {
   "display_name": "Python 3",
   "language": "python",
   "name": "python3"
  },
  "language_info": {
   "codemirror_mode": {
    "name": "ipython",
    "version": 3
   },
   "file_extension": ".py",
   "mimetype": "text/x-python",
   "name": "python",
   "nbconvert_exporter": "python",
   "pygments_lexer": "ipython3",
   "version": "3.10.9"
  },
  "orig_nbformat": 4,
  "vscode": {
   "interpreter": {
    "hash": "aa38ca2d4ac5334f8facb9127846041594939b57ea42b4afe5d7eb655aac64f1"
   }
  }
 },
 "nbformat": 4,
 "nbformat_minor": 2
}
